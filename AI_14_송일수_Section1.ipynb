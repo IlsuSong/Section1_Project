{
  "nbformat": 4,
  "nbformat_minor": 0,
  "metadata": {
    "colab": {
      "name": "AI_14_송일수_Section1.ipynb",
      "provenance": [],
      "authorship_tag": "ABX9TyNe/HYkUPH/IeG98lxxwbDW",
      "include_colab_link": true
    },
    "kernelspec": {
      "name": "python3",
      "display_name": "Python 3"
    },
    "language_info": {
      "name": "python"
    }
  },
  "cells": [
    {
      "cell_type": "markdown",
      "metadata": {
        "id": "view-in-github",
        "colab_type": "text"
      },
      "source": [
        "<a href=\"https://colab.research.google.com/github/IlsuSong/Section1_Project/blob/main/AI_14_%EC%86%A1%EC%9D%BC%EC%88%98_Section1.ipynb\" target=\"_parent\"><img src=\"https://colab.research.google.com/assets/colab-badge.svg\" alt=\"Open In Colab\"/></a>"
      ]
    },
    {
      "cell_type": "markdown",
      "source": [
        "# **다음 분기에 설계해야할 게임의 장르 예측**"
      ],
      "metadata": {
        "id": "MHjSx5V6vBKe"
      }
    },
    {
      "cell_type": "markdown",
      "source": [
        "파일 업로드"
      ],
      "metadata": {
        "id": "BbeCJZtxvWVS"
      }
    },
    {
      "cell_type": "code",
      "source": [
        "from google.colab import files\n",
        "files.upload()"
      ],
      "metadata": {
        "id": "CeLfxuZMu_jQ"
      },
      "execution_count": null,
      "outputs": []
    },
    {
      "cell_type": "code",
      "source": [
        "import pandas as pd\n",
        "\n",
        "df=pd.read_csv(\"vgames2.csv\")"
      ],
      "metadata": {
        "id": "6bYFzWTlv2B4"
      },
      "execution_count": 3,
      "outputs": []
    },
    {
      "cell_type": "code",
      "source": [
        "# df.head()"
      ],
      "metadata": {
        "id": "Xdnwns_Lwsfk"
      },
      "execution_count": null,
      "outputs": []
    },
    {
      "cell_type": "markdown",
      "source": [
        "***EDA***"
      ],
      "metadata": {
        "id": "RuP3L9b3vx9U"
      }
    },
    {
      "cell_type": "code",
      "source": [
        "dfc=df.drop([\"Unnamed: 0\",\"Publisher\"],axis=1) # 분석에 필요없는 feature 제거\n",
        "\n",
        "dfc.isnull().value_counts() # null값 존재하는 컬럼 찾기"
      ],
      "metadata": {
        "colab": {
          "base_uri": "https://localhost:8080/"
        },
        "id": "Omrvrn8_v0PO",
        "outputId": "7f91b148-b4fa-47d9-cae5-bd30827144d3"
      },
      "execution_count": 4,
      "outputs": [
        {
          "output_type": "execute_result",
          "data": {
            "text/plain": [
              "Name   Platform  Year   Genre  NA_Sales  EU_Sales  JP_Sales  Other_Sales\n",
              "False  False     False  False  False     False     False     False          16277\n",
              "                 True   False  False     False     False     False            271\n",
              "                 False  True   False     False     False     False             50\n",
              "dtype: int64"
            ]
          },
          "metadata": {},
          "execution_count": 4
        }
      ]
    },
    {
      "cell_type": "code",
      "source": [
        "# dfc[dfc.Year.isnull() | dfc.Genre.isnull()]"
      ],
      "metadata": {
        "id": "q01PLReJ0U7z"
      },
      "execution_count": null,
      "outputs": []
    },
    {
      "cell_type": "code",
      "source": [
        "Year_null=dfc[dfc.Year.isnull()].index # YearNaN\n",
        "\n",
        "for i in Year_null:          #NaN 데이터\n",
        "  j=0\n",
        "  for j in range(16598):   #전체 데이터\n",
        "    if i==j :\n",
        "      continue\n",
        "    elif dfc.iloc[i,0]==dfc.iloc[j,0] : #대조\n",
        "      dfc.iloc[i,2]=dfc.iloc[j,2]  #변경\n",
        "      break"
      ],
      "metadata": {
        "id": "ZA2XytqI_TqX"
      },
      "execution_count": 5,
      "outputs": []
    },
    {
      "cell_type": "code",
      "source": [
        "Genre_null=dfc[dfc.Genre.isnull()].index # GenreNaN\n",
        "\n",
        "for i in Genre_null:          #NaN 데이터\n",
        "  j=0\n",
        "  for j in range(16598):   #전체 데이터\n",
        "    if i==j :\n",
        "      continue\n",
        "    elif dfc.iloc[i,0]==dfc.iloc[j,0] : #대조\n",
        "      dfc.iloc[i,3]=dfc.iloc[j,3]  #변경\n",
        "      break"
      ],
      "metadata": {
        "id": "edv-YfUU21W5"
      },
      "execution_count": 6,
      "outputs": []
    },
    {
      "cell_type": "markdown",
      "source": [
        "Year와 Genre의 결측치를 채워넣을 정보가 없는 197개의 데이터가 존재한다.\n",
        "\n",
        "따라서 데이터 분석 시 Year 혹은 Genre를 요구하는 분석이라면 제거할 필요가 있다.\n",
        "\n",
        "판매량 column값에는 K, M단위를 가진 데이터와 소수점 둘째자리까지 표기된 숫자들이 있는데,\n",
        "기본 단위가 million으로 추정된다. 따라서 모든 판매량 데이터를 하나의 기준에 맞춰 수정한다."
      ],
      "metadata": {
        "id": "fKgKpsyl4yDt"
      }
    },
    {
      "cell_type": "code",
      "source": [
        "# dfc[dfc['NA_Sales'].str.contains('K')]"
      ],
      "metadata": {
        "id": "phy5i1L45Cu_"
      },
      "execution_count": null,
      "outputs": []
    },
    {
      "cell_type": "code",
      "source": [
        "dfcc=dfc.copy()\n",
        "dfcc['NA_Sales']=dfcc['NA_Sales'].str.replace(\"M\",'') # M단위 제거"
      ],
      "metadata": {
        "id": "0mxQOw1-E2uU"
      },
      "execution_count": 7,
      "outputs": []
    },
    {
      "cell_type": "code",
      "source": [
        "K=dfcc[dfcc['NA_Sales'].str.contains('K')].index\n",
        "\n",
        "for i in K:\n",
        "  dfcc.iloc[i,4]=dfcc.iloc[i,4].replace(\"K\",'')\n",
        "  if float(dfcc.iloc[i,4])==0 :\n",
        "    continue\n",
        "  else :\n",
        "    dfcc.iloc[i,4]=float(dfcc.iloc[i,4])/1000\n",
        "\n",
        "# K단위 제거 및 M단위로 변경"
      ],
      "metadata": {
        "id": "WKj2CEv_Tg0Y"
      },
      "execution_count": 8,
      "outputs": []
    },
    {
      "cell_type": "code",
      "source": [
        "# pd.DataFrame(dfcc.iloc[K,4])"
      ],
      "metadata": {
        "id": "tN_km0NKQRu6"
      },
      "execution_count": null,
      "outputs": []
    },
    {
      "cell_type": "code",
      "source": [
        "dfcc['EU_Sales']=dfcc['EU_Sales'].str.replace(\"M\",'') # 같은 작업 for EU\n",
        "\n",
        "K2=dfcc[dfcc['EU_Sales'].str.contains('K')].index\n",
        "\n",
        "for i in K2:\n",
        "  dfcc.iloc[i,5]=dfcc.iloc[i,5].replace(\"K\",'')\n",
        "  if float(dfcc.iloc[i,5])==0 :\n",
        "    continue\n",
        "  else :\n",
        "    dfcc.iloc[i,5]=float(dfcc.iloc[i,5])/1000"
      ],
      "metadata": {
        "id": "R5r5mrDd7lku"
      },
      "execution_count": 9,
      "outputs": []
    },
    {
      "cell_type": "code",
      "source": [
        "dfcc['JP_Sales']=dfcc['JP_Sales'].str.replace(\"M\",'') # 같은 작업 for JP\n",
        "\n",
        "K3=dfcc[dfcc['JP_Sales'].str.contains('K')].index\n",
        "\n",
        "for i in K3:\n",
        "  dfcc.iloc[i,6]=dfcc.iloc[i,6].replace(\"K\",'')\n",
        "  if float(dfcc.iloc[i,6])==0 :\n",
        "    continue\n",
        "  else :\n",
        "    dfcc.iloc[i,6]=float(dfcc.iloc[i,6])/1000"
      ],
      "metadata": {
        "id": "_XmX7Q4z784A"
      },
      "execution_count": 10,
      "outputs": []
    },
    {
      "cell_type": "code",
      "source": [
        "dfcc['Other_Sales']=dfcc['Other_Sales'].str.replace(\"M\",'') # 같은 작업 for Other\n",
        "\n",
        "K4=dfcc[dfcc['Other_Sales'].str.contains('K')].index\n",
        "\n",
        "for i in K4:\n",
        "  dfcc.iloc[i,7]=dfcc.iloc[i,7].replace(\"K\",'')\n",
        "  if float(dfcc.iloc[i,7])==0 :\n",
        "    continue\n",
        "  else :\n",
        "    dfcc.iloc[i,7]=float(dfcc.iloc[i,7])/1000"
      ],
      "metadata": {
        "id": "IqFSl6fW8DIs"
      },
      "execution_count": 11,
      "outputs": []
    },
    {
      "cell_type": "code",
      "source": [
        "year_arr=np.array(dfcc.Year.dropna())\n",
        "\n",
        "yarr=list(set(year_arr))\n",
        "\n",
        "yarr"
      ],
      "metadata": {
        "id": "u1zpaeVTl6sH",
        "outputId": "ec9403aa-088a-47db-d7b2-287d138a9b9e",
        "colab": {
          "base_uri": "https://localhost:8080/"
        }
      },
      "execution_count": 75,
      "outputs": [
        {
          "output_type": "execute_result",
          "data": {
            "text/plain": [
              "[0.0,\n",
              " 1.0,\n",
              " 2.0,\n",
              " 3.0,\n",
              " 4.0,\n",
              " 5.0,\n",
              " 6.0,\n",
              " 7.0,\n",
              " 8.0,\n",
              " 9.0,\n",
              " 10.0,\n",
              " 11.0,\n",
              " 12.0,\n",
              " 13.0,\n",
              " 14.0,\n",
              " 15.0,\n",
              " 16.0,\n",
              " 86.0,\n",
              " 1980.0,\n",
              " 1981.0,\n",
              " 1982.0,\n",
              " 1983.0,\n",
              " 1984.0,\n",
              " 1985.0,\n",
              " 1986.0,\n",
              " 1987.0,\n",
              " 1988.0,\n",
              " 1989.0,\n",
              " 1990.0,\n",
              " 1991.0,\n",
              " 1992.0,\n",
              " 1993.0,\n",
              " 1994.0,\n",
              " 1995.0,\n",
              " 1996.0,\n",
              " 1997.0,\n",
              " 1998.0,\n",
              " 1999.0,\n",
              " 2000.0,\n",
              " 2001.0,\n",
              " 2002.0,\n",
              " 2003.0,\n",
              " 2004.0,\n",
              " 2005.0,\n",
              " 2006.0,\n",
              " 2007.0,\n",
              " 2008.0,\n",
              " 2009.0,\n",
              " 2010.0,\n",
              " 2011.0,\n",
              " 2012.0,\n",
              " 2013.0,\n",
              " 2014.0,\n",
              " 2015.0,\n",
              " 2016.0,\n",
              " 97.0,\n",
              " 96.0,\n",
              " 98.0,\n",
              " 95.0,\n",
              " 2017.0,\n",
              " 2020.0,\n",
              " 94.0]"
            ]
          },
          "metadata": {},
          "execution_count": 75
        }
      ]
    },
    {
      "cell_type": "markdown",
      "source": [
        "Year column에 0 to 16, 86, 94 to 98 이라는 값이 존재하는데 0 to 16 은 21세기, 86, 94 to 98은 20세기를 의미하므로 다른 연도 표기와 일치시킨다."
      ],
      "metadata": {
        "id": "oXywlcXklsSi"
      }
    },
    {
      "cell_type": "code",
      "source": [
        "for i in range(16598):\n",
        "  if dfcc.iloc[i,2]<=16:\n",
        "    dfcc.iloc[i,2]+=2000\n",
        "  elif dfcc.iloc[i,2]<=98:\n",
        "    dfcc.iloc[i,2]+=1900"
      ],
      "metadata": {
        "id": "OJEhcMuzmTy9"
      },
      "execution_count": 78,
      "outputs": []
    },
    {
      "cell_type": "markdown",
      "source": [
        "**Q1 : 지역에 따라서 선호하는 게임 장르가 다를까?**"
      ],
      "metadata": {
        "id": "uk4ciEAzEdGp"
      }
    },
    {
      "cell_type": "code",
      "source": [
        "dfcc['NA_Sales']=dfcc['NA_Sales'].astype(float)\n",
        "dfcc['EU_Sales']=dfcc['EU_Sales'].astype(float)\n",
        "dfcc['JP_Sales']=dfcc['JP_Sales'].astype(float)\n",
        "dfcc['Other_Sales']=dfcc['Other_Sales'].astype(float)"
      ],
      "metadata": {
        "id": "RgeTGgVXFP-u"
      },
      "execution_count": 12,
      "outputs": []
    },
    {
      "cell_type": "code",
      "source": [
        "lg=dfcc[['Genre','NA_Sales','EU_Sales','JP_Sales','Other_Sales']]\n",
        "\n",
        "lgg=lg.groupby(dfcc.Genre).sum()"
      ],
      "metadata": {
        "id": "dxEbf0QFEi1m"
      },
      "execution_count": 13,
      "outputs": []
    },
    {
      "cell_type": "code",
      "source": [
        "import sklearn\n",
        "from sklearn.preprocessing import StandardScaler\n",
        "from sklearn.cluster import KMeans"
      ],
      "metadata": {
        "id": "jIgATXElEUwX"
      },
      "execution_count": 14,
      "outputs": []
    },
    {
      "cell_type": "code",
      "source": [
        "import numpy as np"
      ],
      "metadata": {
        "id": "X-DDTFoSHBYa"
      },
      "execution_count": 15,
      "outputs": []
    },
    {
      "cell_type": "code",
      "source": [
        "lgg['NA_Sales']=np.log(lgg['NA_Sales'])\n",
        "lgg['EU_Sales']=np.log(lgg['EU_Sales'])\n",
        "lgg['JP_Sales']=np.log(lgg['JP_Sales'])\n",
        "lgg['Other_Sales']=np.log(lgg['Other_Sales'])"
      ],
      "metadata": {
        "id": "7pKm4ZafHkUI"
      },
      "execution_count": 16,
      "outputs": []
    },
    {
      "cell_type": "code",
      "source": [
        "sc=StandardScaler()\n",
        "\n",
        "lggsc=sc.fit_transform(lgg)\n",
        "\n",
        "lggscdf=pd.DataFrame(lggsc,index=lgg.index,columns=lgg.columns) # 지역별판매량x장르 데이터의 표준화"
      ],
      "metadata": {
        "id": "PBUfPWNQEXvi"
      },
      "execution_count": 17,
      "outputs": []
    },
    {
      "cell_type": "code",
      "source": [
        "import seaborn as sb\n",
        "import matplotlib.pyplot as plt"
      ],
      "metadata": {
        "id": "wBxDQTlmH1ac"
      },
      "execution_count": 18,
      "outputs": []
    },
    {
      "cell_type": "code",
      "source": [
        "plt.figure(figsize = (15,5))\n",
        "sb.lineplot(data=lggscdf); # 표준화된 데이터 시각화"
      ],
      "metadata": {
        "id": "V8rWzhDWbxtY",
        "outputId": "2b5e911a-510f-4e92-915e-fb4715a3d35e",
        "colab": {
          "base_uri": "https://localhost:8080/",
          "height": 334
        }
      },
      "execution_count": 19,
      "outputs": [
        {
          "output_type": "display_data",
          "data": {
            "text/plain": [
              "<Figure size 1080x360 with 1 Axes>"
            ],
            "image/png": "[encoded data removed]"
          },
          "metadata": {
            "needs_background": "light"
          }
        }
      ]
    },
    {
      "cell_type": "markdown",
      "source": [
        "전체적으로 비슷한 통계를 나타내지만, 일본에서 특정 장르의 게임의 수요가 다른 지역과 큰 차이를 보인다.\n",
        "\n",
        "일본은 Role-Playing 게임의 수요가 상대적으로 많고, Racing, Shooter 게임에 대한 수요가 상대적으로 적다.\n",
        "\n",
        "Action, Sports 게임이 전 지역에서 좋은 지표를 보인다."
      ],
      "metadata": {
        "id": "ovRxyZmucTEo"
      }
    },
    {
      "cell_type": "markdown",
      "source": [
        "\n",
        "**Q2 : 연도별 게임의 트렌드가 있을까?**"
      ],
      "metadata": {
        "id": "vgBDuMLfc1-f"
      }
    },
    {
      "cell_type": "code",
      "source": [
        "nyear_arr=np.array(dfcc.Year.dropna())\n",
        "\n",
        "nyarr=list(set(nyear_arr))\n",
        "\n",
        "genre_arr=np.array(dfcc.Genre.dropna())\n",
        "\n",
        "garr=list(set(genre_arr))\n",
        "\n",
        "garr"
      ],
      "metadata": {
        "id": "_iQTDgXTk8qN",
        "outputId": "01ddb2d8-65d7-4f95-c698-ff0ef86849c2",
        "colab": {
          "base_uri": "https://localhost:8080/"
        }
      },
      "execution_count": 85,
      "outputs": [
        {
          "output_type": "execute_result",
          "data": {
            "text/plain": [
              "['Action',\n",
              " 'Misc',\n",
              " 'Shooter',\n",
              " 'Puzzle',\n",
              " 'Sports',\n",
              " 'Platform',\n",
              " 'Racing',\n",
              " 'Role-Playing',\n",
              " 'Simulation',\n",
              " 'Strategy',\n",
              " 'Adventure',\n",
              " 'Fighting']"
            ]
          },
          "metadata": {},
          "execution_count": 85
        }
      ]
    },
    {
      "cell_type": "code",
      "source": [
        "garr[1]"
      ],
      "metadata": {
        "id": "f2rynA3LwERm",
        "outputId": "17d4e9fd-7891-4ea2-e2d7-359731b06c0b",
        "colab": {
          "base_uri": "https://localhost:8080/",
          "height": 35
        }
      },
      "execution_count": 106,
      "outputs": [
        {
          "output_type": "execute_result",
          "data": {
            "text/plain": [
              "'Misc'"
            ],
            "application/vnd.google.colaboratory.intrinsic+json": {
              "type": "string"
            }
          },
          "metadata": {},
          "execution_count": 106
        }
      ]
    },
    {
      "cell_type": "code",
      "source": [
        "dfcc.Year.nunique()"
      ],
      "metadata": {
        "id": "WuscYJq3vfWY",
        "outputId": "9b6532de-9014-4f93-8aad-d3f19be365ff",
        "colab": {
          "base_uri": "https://localhost:8080/"
        }
      },
      "execution_count": 105,
      "outputs": [
        {
          "output_type": "execute_result",
          "data": {
            "text/plain": [
              "39"
            ]
          },
          "metadata": {},
          "execution_count": 105
        }
      ]
    },
    {
      "cell_type": "code",
      "source": [
        "yg=dfcc[['Year','Genre']].dropna()\n",
        "\n",
        "yg\n",
        "\n"
      ],
      "metadata": {
        "id": "e9ebKZ4UrDh_",
        "outputId": "7ce1834b-35b2-4596-9469-ce62f42b9afa",
        "colab": {
          "base_uri": "https://localhost:8080/",
          "height": 424
        }
      },
      "execution_count": 120,
      "outputs": [
        {
          "output_type": "execute_result",
          "data": {
            "text/plain": [
              "         Year      Genre\n",
              "0      2008.0     Action\n",
              "1      2009.0     Action\n",
              "2      2010.0  Adventure\n",
              "3      2010.0       Misc\n",
              "4      2010.0   Platform\n",
              "...       ...        ...\n",
              "16593  2006.0   Platform\n",
              "16594  2005.0     Action\n",
              "16595  2015.0     Sports\n",
              "16596  2013.0     Action\n",
              "16597  1996.0   Fighting\n",
              "\n",
              "[16401 rows x 2 columns]"
            ],
            "text/html": [
              "\n",
              "  <div id=\"df-7b7811ca-0e7c-4f86-bdf2-53e8e628c1de\">\n",
              "    <div class=\"colab-df-container\">\n",
              "      <div>\n",
              "<style scoped>\n",
              "    .dataframe tbody tr th:only-of-type {\n",
              "        vertical-align: middle;\n",
              "    }\n",
              "\n",
              "    .dataframe tbody tr th {\n",
              "        vertical-align: top;\n",
              "    }\n",
              "\n",
              "    .dataframe thead th {\n",
              "        text-align: right;\n",
              "    }\n",
              "</style>\n",
              "<table border=\"1\" class=\"dataframe\">\n",
              "  <thead>\n",
              "    <tr style=\"text-align: right;\">\n",
              "      <th></th>\n",
              "      <th>Year</th>\n",
              "      <th>Genre</th>\n",
              "    </tr>\n",
              "  </thead>\n",
              "  <tbody>\n",
              "    <tr>\n",
              "      <th>0</th>\n",
              "      <td>2008.0</td>\n",
              "      <td>Action</td>\n",
              "    </tr>\n",
              "    <tr>\n",
              "      <th>1</th>\n",
              "      <td>2009.0</td>\n",
              "      <td>Action</td>\n",
              "    </tr>\n",
              "    <tr>\n",
              "      <th>2</th>\n",
              "      <td>2010.0</td>\n",
              "      <td>Adventure</td>\n",
              "    </tr>\n",
              "    <tr>\n",
              "      <th>3</th>\n",
              "      <td>2010.0</td>\n",
              "      <td>Misc</td>\n",
              "    </tr>\n",
              "    <tr>\n",
              "      <th>4</th>\n",
              "      <td>2010.0</td>\n",
              "      <td>Platform</td>\n",
              "    </tr>\n",
              "    <tr>\n",
              "      <th>...</th>\n",
              "      <td>...</td>\n",
              "      <td>...</td>\n",
              "    </tr>\n",
              "    <tr>\n",
              "      <th>16593</th>\n",
              "      <td>2006.0</td>\n",
              "      <td>Platform</td>\n",
              "    </tr>\n",
              "    <tr>\n",
              "      <th>16594</th>\n",
              "      <td>2005.0</td>\n",
              "      <td>Action</td>\n",
              "    </tr>\n",
              "    <tr>\n",
              "      <th>16595</th>\n",
              "      <td>2015.0</td>\n",
              "      <td>Sports</td>\n",
              "    </tr>\n",
              "    <tr>\n",
              "      <th>16596</th>\n",
              "      <td>2013.0</td>\n",
              "      <td>Action</td>\n",
              "    </tr>\n",
              "    <tr>\n",
              "      <th>16597</th>\n",
              "      <td>1996.0</td>\n",
              "      <td>Fighting</td>\n",
              "    </tr>\n",
              "  </tbody>\n",
              "</table>\n",
              "<p>16401 rows × 2 columns</p>\n",
              "</div>\n",
              "      <button class=\"colab-df-convert\" onclick=\"convertToInteractive('df-7b7811ca-0e7c-4f86-bdf2-53e8e628c1de')\"\n",
              "              title=\"Convert this dataframe to an interactive table.\"\n",
              "              style=\"display:none;\">\n",
              "        \n",
              "  <svg xmlns=\"http://www.w3.org/2000/svg\" height=\"24px\"viewBox=\"0 0 24 24\"\n",
              "       width=\"24px\">\n",
              "    <path d=\"M0 0h24v24H0V0z\" fill=\"none\"/>\n",
              "    <path d=\"M18.56 5.44l.94 2.06.94-2.06 2.06-.94-2.06-.94-.94-2.06-.94 2.06-2.06.94zm-11 1L8.5 8.5l.94-2.06 2.06-.94-2.06-.94L8.5 2.5l-.94 2.06-2.06.94zm10 10l.94 2.06.94-2.06 2.06-.94-2.06-.94-.94-2.06-.94 2.06-2.06.94z\"/><path d=\"M17.41 7.96l-1.37-1.37c-.4-.4-.92-.59-1.43-.59-.52 0-1.04.2-1.43.59L10.3 9.45l-7.72 7.72c-.78.78-.78 2.05 0 2.83L4 21.41c.39.39.9.59 1.41.59.51 0 1.02-.2 1.41-.59l7.78-7.78 2.81-2.81c.8-.78.8-2.07 0-2.86zM5.41 20L4 18.59l7.72-7.72 1.47 1.35L5.41 20z\"/>\n",
              "  </svg>\n",
              "      </button>\n",
              "      \n",
              "  <style>\n",
              "    .colab-df-container {\n",
              "      display:flex;\n",
              "      flex-wrap:wrap;\n",
              "      gap: 12px;\n",
              "    }\n",
              "\n",
              "    .colab-df-convert {\n",
              "      background-color: #E8F0FE;\n",
              "      border: none;\n",
              "      border-radius: 50%;\n",
              "      cursor: pointer;\n",
              "      display: none;\n",
              "      fill: #1967D2;\n",
              "      height: 32px;\n",
              "      padding: 0 0 0 0;\n",
              "      width: 32px;\n",
              "    }\n",
              "\n",
              "    .colab-df-convert:hover {\n",
              "      background-color: #E2EBFA;\n",
              "      box-shadow: 0px 1px 2px rgba(60, 64, 67, 0.3), 0px 1px 3px 1px rgba(60, 64, 67, 0.15);\n",
              "      fill: #174EA6;\n",
              "    }\n",
              "\n",
              "    [theme=dark] .colab-df-convert {\n",
              "      background-color: #3B4455;\n",
              "      fill: #D2E3FC;\n",
              "    }\n",
              "\n",
              "    [theme=dark] .colab-df-convert:hover {\n",
              "      background-color: #434B5C;\n",
              "      box-shadow: 0px 1px 3px 1px rgba(0, 0, 0, 0.15);\n",
              "      filter: drop-shadow(0px 1px 2px rgba(0, 0, 0, 0.3));\n",
              "      fill: #FFFFFF;\n",
              "    }\n",
              "  </style>\n",
              "\n",
              "      <script>\n",
              "        const buttonEl =\n",
              "          document.querySelector('#df-7b7811ca-0e7c-4f86-bdf2-53e8e628c1de button.colab-df-convert');\n",
              "        buttonEl.style.display =\n",
              "          google.colab.kernel.accessAllowed ? 'block' : 'none';\n",
              "\n",
              "        async function convertToInteractive(key) {\n",
              "          const element = document.querySelector('#df-7b7811ca-0e7c-4f86-bdf2-53e8e628c1de');\n",
              "          const dataTable =\n",
              "            await google.colab.kernel.invokeFunction('convertToInteractive',\n",
              "                                                     [key], {});\n",
              "          if (!dataTable) return;\n",
              "\n",
              "          const docLinkHtml = 'Like what you see? Visit the ' +\n",
              "            '<a target=\"_blank\" href=https://colab.research.google.com/notebooks/data_table.ipynb>data table notebook</a>'\n",
              "            + ' to learn more about interactive tables.';\n",
              "          element.innerHTML = '';\n",
              "          dataTable['output_type'] = 'display_data';\n",
              "          await google.colab.output.renderOutput(dataTable, element);\n",
              "          const docLink = document.createElement('div');\n",
              "          docLink.innerHTML = docLinkHtml;\n",
              "          element.appendChild(docLink);\n",
              "        }\n",
              "      </script>\n",
              "    </div>\n",
              "  </div>\n",
              "  "
            ]
          },
          "metadata": {},
          "execution_count": 120
        }
      ]
    },
    {
      "cell_type": "code",
      "source": [
        ""
      ],
      "metadata": {
        "id": "jftvX8It4RDE"
      },
      "execution_count": null,
      "outputs": []
    },
    {
      "cell_type": "code",
      "source": [
        "id = dfcc.Year.dropna().unique()"
      ],
      "metadata": {
        "id": "UXBdpQDjsY5U"
      },
      "execution_count": null,
      "outputs": []
    },
    {
      "cell_type": "code",
      "source": [
        "yggg=yg.pivot(index='Year',columns='Genre',values=\n",
        "\n",
        "yggg\n"
      ],
      "metadata": {
        "id": "ogXx6I6rtRVT",
        "outputId": "992cc643-b2ed-4e85-c351-2d4f0507221e",
        "colab": {
          "base_uri": "https://localhost:8080/",
          "height": 211
        }
      },
      "execution_count": 100,
      "outputs": [
        {
          "output_type": "error",
          "ename": "NameError",
          "evalue": "ignored",
          "traceback": [
            "\u001b[0;31m---------------------------------------------------------------------------\u001b[0m",
            "\u001b[0;31mNameError\u001b[0m                                 Traceback (most recent call last)",
            "\u001b[0;32m<ipython-input-100-8f64d9cfa858>\u001b[0m in \u001b[0;36m<module>\u001b[0;34m()\u001b[0m\n\u001b[0;32m----> 1\u001b[0;31m \u001b[0myggg\u001b[0m\u001b[0;34m=\u001b[0m\u001b[0myg\u001b[0m\u001b[0;34m.\u001b[0m\u001b[0mpivot\u001b[0m\u001b[0;34m(\u001b[0m\u001b[0mindex\u001b[0m\u001b[0;34m=\u001b[0m\u001b[0;34m'Year'\u001b[0m\u001b[0;34m,\u001b[0m\u001b[0mcolumns\u001b[0m\u001b[0;34m=\u001b[0m\u001b[0;34m'Genre'\u001b[0m\u001b[0;34m,\u001b[0m\u001b[0mvalues\u001b[0m\u001b[0;34m=\u001b[0m\u001b[0mcount\u001b[0m\u001b[0;34m(\u001b[0m\u001b[0;34m[\u001b[0m\u001b[0;34m'Year'\u001b[0m\u001b[0;34m,\u001b[0m\u001b[0;34m'Genre'\u001b[0m\u001b[0;34m]\u001b[0m\u001b[0;34m)\u001b[0m\u001b[0;34m)\u001b[0m\u001b[0;34m\u001b[0m\u001b[0;34m\u001b[0m\u001b[0m\n\u001b[0m\u001b[1;32m      2\u001b[0m \u001b[0;34m\u001b[0m\u001b[0m\n\u001b[1;32m      3\u001b[0m \u001b[0myggg\u001b[0m\u001b[0;34m\u001b[0m\u001b[0;34m\u001b[0m\u001b[0m\n",
            "\u001b[0;31mNameError\u001b[0m: name 'count' is not defined"
          ]
        }
      ]
    },
    {
      "cell_type": "code",
      "source": [
        "dfcc.Genre.count()"
      ],
      "metadata": {
        "id": "iwBURs-bwTZm",
        "outputId": "f7159018-2e28-46d6-df5e-cc5c3479e825",
        "colab": {
          "base_uri": "https://localhost:8080/"
        }
      },
      "execution_count": 108,
      "outputs": [
        {
          "output_type": "execute_result",
          "data": {
            "text/plain": [
              "16568"
            ]
          },
          "metadata": {},
          "execution_count": 108
        }
      ]
    },
    {
      "cell_type": "code",
      "source": [
        "varr =[]"
      ],
      "metadata": {
        "id": "Hfoo0TWPrY3l"
      },
      "execution_count": null,
      "outputs": []
    },
    {
      "cell_type": "code",
      "source": [
        "# a=[]\n",
        "\n",
        "# for i in range(dfcc.Year.nunique()):\n",
        "#   for j in range(dfcc.Genre.nunique()):\n",
        "#     for k in range(dfcc.Genre.count()):\n"
      ],
      "metadata": {
        "id": "1DPZGj44pjTO"
      },
      "execution_count": null,
      "outputs": []
    },
    {
      "cell_type": "code",
      "source": [
        "kkk=yg.groupby(yg.Genre).count()\n"
      ],
      "metadata": {
        "id": "GSrgi12cwtOt"
      },
      "execution_count": 117,
      "outputs": []
    },
    {
      "cell_type": "code",
      "source": [
        "kkk"
      ],
      "metadata": {
        "id": "QNt1qEGGxEGk",
        "outputId": "83574122-60b5-428c-febb-9be37348c4cc",
        "colab": {
          "base_uri": "https://localhost:8080/",
          "height": 457
        }
      },
      "execution_count": 118,
      "outputs": [
        {
          "output_type": "execute_result",
          "data": {
            "text/plain": [
              "              Year\n",
              "Genre             \n",
              "Action        3267\n",
              "Adventure     1273\n",
              "Fighting       841\n",
              "Misc          1720\n",
              "Platform       876\n",
              "Puzzle         571\n",
              "Racing        1230\n",
              "Role-Playing  1469\n",
              "Shooter       1297\n",
              "Simulation     853\n",
              "Sports        2329\n",
              "Strategy       675"
            ],
            "text/html": [
              "\n",
              "  <div id=\"df-910965ac-a19d-46c5-8606-8fd5dabf8337\">\n",
              "    <div class=\"colab-df-container\">\n",
              "      <div>\n",
              "<style scoped>\n",
              "    .dataframe tbody tr th:only-of-type {\n",
              "        vertical-align: middle;\n",
              "    }\n",
              "\n",
              "    .dataframe tbody tr th {\n",
              "        vertical-align: top;\n",
              "    }\n",
              "\n",
              "    .dataframe thead th {\n",
              "        text-align: right;\n",
              "    }\n",
              "</style>\n",
              "<table border=\"1\" class=\"dataframe\">\n",
              "  <thead>\n",
              "    <tr style=\"text-align: right;\">\n",
              "      <th></th>\n",
              "      <th>Year</th>\n",
              "    </tr>\n",
              "    <tr>\n",
              "      <th>Genre</th>\n",
              "      <th></th>\n",
              "    </tr>\n",
              "  </thead>\n",
              "  <tbody>\n",
              "    <tr>\n",
              "      <th>Action</th>\n",
              "      <td>3267</td>\n",
              "    </tr>\n",
              "    <tr>\n",
              "      <th>Adventure</th>\n",
              "      <td>1273</td>\n",
              "    </tr>\n",
              "    <tr>\n",
              "      <th>Fighting</th>\n",
              "      <td>841</td>\n",
              "    </tr>\n",
              "    <tr>\n",
              "      <th>Misc</th>\n",
              "      <td>1720</td>\n",
              "    </tr>\n",
              "    <tr>\n",
              "      <th>Platform</th>\n",
              "      <td>876</td>\n",
              "    </tr>\n",
              "    <tr>\n",
              "      <th>Puzzle</th>\n",
              "      <td>571</td>\n",
              "    </tr>\n",
              "    <tr>\n",
              "      <th>Racing</th>\n",
              "      <td>1230</td>\n",
              "    </tr>\n",
              "    <tr>\n",
              "      <th>Role-Playing</th>\n",
              "      <td>1469</td>\n",
              "    </tr>\n",
              "    <tr>\n",
              "      <th>Shooter</th>\n",
              "      <td>1297</td>\n",
              "    </tr>\n",
              "    <tr>\n",
              "      <th>Simulation</th>\n",
              "      <td>853</td>\n",
              "    </tr>\n",
              "    <tr>\n",
              "      <th>Sports</th>\n",
              "      <td>2329</td>\n",
              "    </tr>\n",
              "    <tr>\n",
              "      <th>Strategy</th>\n",
              "      <td>675</td>\n",
              "    </tr>\n",
              "  </tbody>\n",
              "</table>\n",
              "</div>\n",
              "      <button class=\"colab-df-convert\" onclick=\"convertToInteractive('df-910965ac-a19d-46c5-8606-8fd5dabf8337')\"\n",
              "              title=\"Convert this dataframe to an interactive table.\"\n",
              "              style=\"display:none;\">\n",
              "        \n",
              "  <svg xmlns=\"http://www.w3.org/2000/svg\" height=\"24px\"viewBox=\"0 0 24 24\"\n",
              "       width=\"24px\">\n",
              "    <path d=\"M0 0h24v24H0V0z\" fill=\"none\"/>\n",
              "    <path d=\"M18.56 5.44l.94 2.06.94-2.06 2.06-.94-2.06-.94-.94-2.06-.94 2.06-2.06.94zm-11 1L8.5 8.5l.94-2.06 2.06-.94-2.06-.94L8.5 2.5l-.94 2.06-2.06.94zm10 10l.94 2.06.94-2.06 2.06-.94-2.06-.94-.94-2.06-.94 2.06-2.06.94z\"/><path d=\"M17.41 7.96l-1.37-1.37c-.4-.4-.92-.59-1.43-.59-.52 0-1.04.2-1.43.59L10.3 9.45l-7.72 7.72c-.78.78-.78 2.05 0 2.83L4 21.41c.39.39.9.59 1.41.59.51 0 1.02-.2 1.41-.59l7.78-7.78 2.81-2.81c.8-.78.8-2.07 0-2.86zM5.41 20L4 18.59l7.72-7.72 1.47 1.35L5.41 20z\"/>\n",
              "  </svg>\n",
              "      </button>\n",
              "      \n",
              "  <style>\n",
              "    .colab-df-container {\n",
              "      display:flex;\n",
              "      flex-wrap:wrap;\n",
              "      gap: 12px;\n",
              "    }\n",
              "\n",
              "    .colab-df-convert {\n",
              "      background-color: #E8F0FE;\n",
              "      border: none;\n",
              "      border-radius: 50%;\n",
              "      cursor: pointer;\n",
              "      display: none;\n",
              "      fill: #1967D2;\n",
              "      height: 32px;\n",
              "      padding: 0 0 0 0;\n",
              "      width: 32px;\n",
              "    }\n",
              "\n",
              "    .colab-df-convert:hover {\n",
              "      background-color: #E2EBFA;\n",
              "      box-shadow: 0px 1px 2px rgba(60, 64, 67, 0.3), 0px 1px 3px 1px rgba(60, 64, 67, 0.15);\n",
              "      fill: #174EA6;\n",
              "    }\n",
              "\n",
              "    [theme=dark] .colab-df-convert {\n",
              "      background-color: #3B4455;\n",
              "      fill: #D2E3FC;\n",
              "    }\n",
              "\n",
              "    [theme=dark] .colab-df-convert:hover {\n",
              "      background-color: #434B5C;\n",
              "      box-shadow: 0px 1px 3px 1px rgba(0, 0, 0, 0.15);\n",
              "      filter: drop-shadow(0px 1px 2px rgba(0, 0, 0, 0.3));\n",
              "      fill: #FFFFFF;\n",
              "    }\n",
              "  </style>\n",
              "\n",
              "      <script>\n",
              "        const buttonEl =\n",
              "          document.querySelector('#df-910965ac-a19d-46c5-8606-8fd5dabf8337 button.colab-df-convert');\n",
              "        buttonEl.style.display =\n",
              "          google.colab.kernel.accessAllowed ? 'block' : 'none';\n",
              "\n",
              "        async function convertToInteractive(key) {\n",
              "          const element = document.querySelector('#df-910965ac-a19d-46c5-8606-8fd5dabf8337');\n",
              "          const dataTable =\n",
              "            await google.colab.kernel.invokeFunction('convertToInteractive',\n",
              "                                                     [key], {});\n",
              "          if (!dataTable) return;\n",
              "\n",
              "          const docLinkHtml = 'Like what you see? Visit the ' +\n",
              "            '<a target=\"_blank\" href=https://colab.research.google.com/notebooks/data_table.ipynb>data table notebook</a>'\n",
              "            + ' to learn more about interactive tables.';\n",
              "          element.innerHTML = '';\n",
              "          dataTable['output_type'] = 'display_data';\n",
              "          await google.colab.output.renderOutput(dataTable, element);\n",
              "          const docLink = document.createElement('div');\n",
              "          docLink.innerHTML = docLinkHtml;\n",
              "          element.appendChild(docLink);\n",
              "        }\n",
              "      </script>\n",
              "    </div>\n",
              "  </div>\n",
              "  "
            ]
          },
          "metadata": {},
          "execution_count": 118
        }
      ]
    }
  ]
}